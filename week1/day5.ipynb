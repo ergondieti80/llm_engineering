{
 "cells": [
  {
   "cell_type": "markdown",
   "id": "a98030af-fcd1-4d63-a36e-38ba053498fa",
   "metadata": {},
   "source": [
    "# A full business solution\n",
    "\n",
    "## Now we will take our project from Day 1 to the next level\n",
    "\n",
    "### BUSINESS CHALLENGE:\n",
    "\n",
    "Create a product that builds a Brochure for a company to be used for prospective clients, investors and potential recruits.\n",
    "\n",
    "We will be provided a company name and their primary website.\n",
    "\n",
    "See the end of this notebook for examples of real-world business applications.\n",
    "\n",
    "And remember: I'm always available if you have problems or ideas! Please do reach out."
   ]
  },
  {
   "cell_type": "code",
   "execution_count": 2,
   "id": "d5b08506-dc8b-4443-9201-5f1848161363",
   "metadata": {},
   "outputs": [],
   "source": [
    "# imports\n",
    "# If these fail, please check you're running from an 'activated' environment with (llms) in the command prompt\n",
    "\n",
    "import os\n",
    "import requests\n",
    "import json\n",
    "from typing import List\n",
    "from dotenv import load_dotenv\n",
    "from bs4 import BeautifulSoup\n",
    "from IPython.display import Markdown, display, update_display\n",
    "from openai import OpenAI"
   ]
  },
  {
   "cell_type": "code",
   "execution_count": 3,
   "id": "fc5d8880-f2ee-4c06-af16-ecbc0262af61",
   "metadata": {},
   "outputs": [
    {
     "name": "stdout",
     "output_type": "stream",
     "text": [
      "There might be a problem with your API key? Please visit the troubleshooting notebook!\n"
     ]
    }
   ],
   "source": [
    "# Initialize and constants\n",
    "\n",
    "load_dotenv(override=True)\n",
    "api_key = os.getenv('OPENAI_API_KEY')\n",
    "\n",
    "if api_key and api_key.startswith('sk-proj-') and len(api_key)>10:\n",
    "    print(\"API key looks good so far\")\n",
    "else:\n",
    "    print(\"There might be a problem with your API key? Please visit the troubleshooting notebook!\")\n",
    "    \n",
    "MODEL = 'gpt-4o-mini'\n",
    "openai = OpenAI()"
   ]
  },
  {
   "cell_type": "code",
   "execution_count": 4,
   "id": "71d5b323-b860-4bc0-b699-66d9f0b05a21",
   "metadata": {},
   "outputs": [
    {
     "name": "stdout",
     "output_type": "stream",
     "text": [
      "\u001b[?2026h\u001b[?25l\u001b[1Gpulling manifest ⠋ \u001b[K\u001b[?25h\u001b[?2026l\u001b[?2026h\u001b[?25l\u001b[1Gpulling manifest ⠙ \u001b[K\u001b[?25h\u001b[?2026l\u001b[?2026h\u001b[?25l\u001b[1Gpulling manifest ⠹ \u001b[K\u001b[?25h\u001b[?2026l\u001b[?2026h\u001b[?25l\u001b[1Gpulling manifest ⠸ \u001b[K\u001b[?25h\u001b[?2026l\u001b[?2026h\u001b[?25l\u001b[1Gpulling manifest ⠼ \u001b[K\u001b[?25h\u001b[?2026l\u001b[?2026h\u001b[?25l\u001b[1Gpulling manifest \u001b[K\n",
      "pulling dde5aa3fc5ff: 100% ▕██████████████████▏ 2.0 GB                         \u001b[K\n",
      "pulling 966de95ca8a6: 100% ▕██████████████████▏ 1.4 KB                         \u001b[K\n",
      "pulling fcc5a6bec9da: 100% ▕██████████████████▏ 7.7 KB                         \u001b[K\n",
      "pulling a70ff7e570d9: 100% ▕██████████████████▏ 6.0 KB                         \u001b[K\n",
      "pulling 56bb8bd477a5: 100% ▕██████████████████▏   96 B                         \u001b[K\n",
      "pulling 34bb5ab01051: 100% ▕██████████████████▏  561 B                         \u001b[K\n",
      "verifying sha256 digest \u001b[K\n",
      "writing manifest \u001b[K\n",
      "success \u001b[K\u001b[?25h\u001b[?2026l\n",
      "2 + 2 = 4\n"
     ]
    }
   ],
   "source": [
    "!ollama pull llama3.2\n",
    "\n",
    "from openai import OpenAI\n",
    "MODEL = \"llama3.2\"\n",
    "openai = OpenAI(base_url=\"http://localhost:11434/v1\", api_key=\"ollama\")\n",
    "\n",
    "response = openai.chat.completions.create(\n",
    " model=MODEL,\n",
    " messages=[{\"role\": \"user\", \"content\": \"What is 2 + 2?\"}]\n",
    ")\n",
    "\n",
    "print(response.choices[0].message.content)\n",
    "\n",
    "# If this doesn't work, try Kernel menu >> Restart Kernel and Clear Outputs Of All Cells, then run the cells from the top of this notebook down.\n",
    "# If it STILL doesn't work (horrors!) then please see the Troubleshooting notebook in this folder for full instructions"
   ]
  },
  {
   "cell_type": "code",
   "execution_count": 5,
   "id": "106dd65e-90af-4ca8-86b6-23a41840645b",
   "metadata": {},
   "outputs": [],
   "source": [
    "# A class to represent a Webpage\n",
    "\n",
    "# Some websites need you to use proper headers when fetching them:\n",
    "headers = {\n",
    " \"User-Agent\": \"Mozilla/5.0 (Windows NT 10.0; Win64; x64) AppleWebKit/537.36 (KHTML, like Gecko) Chrome/117.0.0.0 Safari/537.36\"\n",
    "}\n",
    "\n",
    "class Website:\n",
    "    \"\"\"\n",
    "    A utility class to represent a Website that we have scraped, now with links\n",
    "    \"\"\"\n",
    "\n",
    "    def __init__(self, url):\n",
    "        self.url = url\n",
    "        response = requests.get(url, headers=headers)\n",
    "        self.body = response.content\n",
    "        soup = BeautifulSoup(self.body, 'html.parser')\n",
    "        self.title = soup.title.string if soup.title else \"No title found\"\n",
    "        if soup.body:\n",
    "            for irrelevant in soup.body([\"script\", \"style\", \"img\", \"input\"]):\n",
    "                irrelevant.decompose()\n",
    "            self.text = soup.body.get_text(separator=\"\\n\", strip=True)\n",
    "        else:\n",
    "            self.text = \"\"\n",
    "        links = [link.get('href') for link in soup.find_all('a')]\n",
    "        self.links = [link for link in links if link]\n",
    "\n",
    "    def get_contents(self):\n",
    "        return f\"Webpage Title:\\n{self.title}\\nWebpage Contents:\\n{self.text}\\n\\n\""
   ]
  },
  {
   "cell_type": "code",
   "execution_count": 6,
   "id": "e30d8128-933b-44cc-81c8-ab4c9d86589a",
   "metadata": {},
   "outputs": [
    {
     "data": {
      "text/plain": [
       "['https://edwarddonner.com/',\n",
       " 'https://edwarddonner.com/connect-four/',\n",
       " 'https://edwarddonner.com/outsmart/',\n",
       " 'https://edwarddonner.com/about-me-and-about-nebula/',\n",
       " 'https://edwarddonner.com/posts/',\n",
       " 'https://edwarddonner.com/',\n",
       " 'https://news.ycombinator.com',\n",
       " 'https://nebula.io/?utm_source=ed&utm_medium=referral',\n",
       " 'https://www.prnewswire.com/news-releases/wynden-stark-group-acquires-nyc-venture-backed-tech-startup-untapt-301269512.html',\n",
       " 'https://patents.google.com/patent/US20210049536A1/',\n",
       " 'https://www.linkedin.com/in/eddonner/',\n",
       " 'https://edwarddonner.com/2025/05/28/connecting-my-courses-become-an-llm-expert-and-leader/',\n",
       " 'https://edwarddonner.com/2025/05/28/connecting-my-courses-become-an-llm-expert-and-leader/',\n",
       " 'https://edwarddonner.com/2025/05/18/2025-ai-executive-briefing/',\n",
       " 'https://edwarddonner.com/2025/05/18/2025-ai-executive-briefing/',\n",
       " 'https://edwarddonner.com/2025/04/21/the-complete-agentic-ai-engineering-course/',\n",
       " 'https://edwarddonner.com/2025/04/21/the-complete-agentic-ai-engineering-course/',\n",
       " 'https://edwarddonner.com/2025/01/23/llm-workshop-hands-on-with-agents-resources/',\n",
       " 'https://edwarddonner.com/2025/01/23/llm-workshop-hands-on-with-agents-resources/',\n",
       " 'https://edwarddonner.com/',\n",
       " 'https://edwarddonner.com/connect-four/',\n",
       " 'https://edwarddonner.com/outsmart/',\n",
       " 'https://edwarddonner.com/about-me-and-about-nebula/',\n",
       " 'https://edwarddonner.com/posts/',\n",
       " 'mailto:hello@mygroovydomain.com',\n",
       " 'https://www.linkedin.com/in/eddonner/',\n",
       " 'https://twitter.com/edwarddonner',\n",
       " 'https://www.facebook.com/edward.donner.52']"
      ]
     },
     "execution_count": 6,
     "metadata": {},
     "output_type": "execute_result"
    }
   ],
   "source": [
    "ed = Website(\"https://edwarddonner.com\")\n",
    "ed.links"
   ]
  },
  {
   "cell_type": "markdown",
   "id": "1771af9c-717a-4fca-bbbe-8a95893312c3",
   "metadata": {},
   "source": [
    "## First step: Have GPT-4o-mini figure out which links are relevant\n",
    "\n",
    "### Use a call to gpt-4o-mini to read the links on a webpage, and respond in structured JSON.  \n",
    "It should decide which links are relevant, and replace relative links such as \"/about\" with \"https://company.com/about\".  \n",
    "We will use \"one shot prompting\" in which we provide an example of how it should respond in the prompt.\n",
    "\n",
    "This is an excellent use case for an LLM, because it requires nuanced understanding. Imagine trying to code this without LLMs by parsing and analyzing the webpage - it would be very hard!\n",
    "\n",
    "Sidenote: there is a more advanced technique called \"Structured Outputs\" in which we require the model to respond according to a spec. We cover this technique in Week 8 during our autonomous Agentic AI project."
   ]
  },
  {
   "cell_type": "code",
   "execution_count": 7,
   "id": "6957b079-0d96-45f7-a26a-3487510e9b35",
   "metadata": {},
   "outputs": [],
   "source": [
    "link_system_prompt = \"You are provided with a list of links found on a webpage. \\\n",
    "You are able to decide which of the links would be most relevant to include in a brochure about the company, \\\n",
    "such as links to an About page, or a Company page, or Careers/Jobs pages.\\n\"\n",
    "link_system_prompt += \"You should respond in JSON as in this example:\"\n",
    "link_system_prompt += \"\"\"\n",
    "{\n",
    "    \"links\": [\n",
    "        {\"type\": \"about page\", \"url\": \"https://full.url/goes/here/about\"},\n",
    "        {\"type\": \"careers page\": \"url\": \"https://another.full.url/careers\"}\n",
    "    ]\n",
    "}\n",
    "\"\"\""
   ]
  },
  {
   "cell_type": "code",
   "execution_count": 8,
   "id": "b97e4068-97ed-4120-beae-c42105e4d59a",
   "metadata": {},
   "outputs": [
    {
     "name": "stdout",
     "output_type": "stream",
     "text": [
      "You are provided with a list of links found on a webpage. You are able to decide which of the links would be most relevant to include in a brochure about the company, such as links to an About page, or a Company page, or Careers/Jobs pages.\n",
      "You should respond in JSON as in this example:\n",
      "{\n",
      "    \"links\": [\n",
      "        {\"type\": \"about page\", \"url\": \"https://full.url/goes/here/about\"},\n",
      "        {\"type\": \"careers page\": \"url\": \"https://another.full.url/careers\"}\n",
      "    ]\n",
      "}\n",
      "\n"
     ]
    }
   ],
   "source": [
    "print(link_system_prompt)"
   ]
  },
  {
   "cell_type": "code",
   "execution_count": 9,
   "id": "8e1f601b-2eaf-499d-b6b8-c99050c9d6b3",
   "metadata": {},
   "outputs": [],
   "source": [
    "def get_links_user_prompt(website):\n",
    "    user_prompt = f\"Here is the list of links on the website of {website.url} - \"\n",
    "    user_prompt += \"please decide which of these are relevant web links for a brochure about the company, respond with the full https URL in JSON format. \\\n",
    "Do not include Terms of Service, Privacy, email links.\\n\"\n",
    "    user_prompt += \"Links (some might be relative links):\\n\"\n",
    "    user_prompt += \"\\n\".join(website.links)\n",
    "    return user_prompt"
   ]
  },
  {
   "cell_type": "code",
   "execution_count": 10,
   "id": "6bcbfa78-6395-4685-b92c-22d592050fd7",
   "metadata": {},
   "outputs": [
    {
     "name": "stdout",
     "output_type": "stream",
     "text": [
      "Here is the list of links on the website of https://edwarddonner.com - please decide which of these are relevant web links for a brochure about the company, respond with the full https URL in JSON format. Do not include Terms of Service, Privacy, email links.\n",
      "Links (some might be relative links):\n",
      "https://edwarddonner.com/\n",
      "https://edwarddonner.com/connect-four/\n",
      "https://edwarddonner.com/outsmart/\n",
      "https://edwarddonner.com/about-me-and-about-nebula/\n",
      "https://edwarddonner.com/posts/\n",
      "https://edwarddonner.com/\n",
      "https://news.ycombinator.com\n",
      "https://nebula.io/?utm_source=ed&utm_medium=referral\n",
      "https://www.prnewswire.com/news-releases/wynden-stark-group-acquires-nyc-venture-backed-tech-startup-untapt-301269512.html\n",
      "https://patents.google.com/patent/US20210049536A1/\n",
      "https://www.linkedin.com/in/eddonner/\n",
      "https://edwarddonner.com/2025/05/28/connecting-my-courses-become-an-llm-expert-and-leader/\n",
      "https://edwarddonner.com/2025/05/28/connecting-my-courses-become-an-llm-expert-and-leader/\n",
      "https://edwarddonner.com/2025/05/18/2025-ai-executive-briefing/\n",
      "https://edwarddonner.com/2025/05/18/2025-ai-executive-briefing/\n",
      "https://edwarddonner.com/2025/04/21/the-complete-agentic-ai-engineering-course/\n",
      "https://edwarddonner.com/2025/04/21/the-complete-agentic-ai-engineering-course/\n",
      "https://edwarddonner.com/2025/01/23/llm-workshop-hands-on-with-agents-resources/\n",
      "https://edwarddonner.com/2025/01/23/llm-workshop-hands-on-with-agents-resources/\n",
      "https://edwarddonner.com/\n",
      "https://edwarddonner.com/connect-four/\n",
      "https://edwarddonner.com/outsmart/\n",
      "https://edwarddonner.com/about-me-and-about-nebula/\n",
      "https://edwarddonner.com/posts/\n",
      "mailto:hello@mygroovydomain.com\n",
      "https://www.linkedin.com/in/eddonner/\n",
      "https://twitter.com/edwarddonner\n",
      "https://www.facebook.com/edward.donner.52\n"
     ]
    }
   ],
   "source": [
    "print(get_links_user_prompt(ed))"
   ]
  },
  {
   "cell_type": "code",
   "execution_count": 11,
   "id": "a29aca19-ca13-471c-a4b4-5abbfa813f69",
   "metadata": {},
   "outputs": [],
   "source": [
    "def get_links(url):\n",
    "    website = Website(url)\n",
    "    response = openai.chat.completions.create(\n",
    "        model=MODEL,\n",
    "        messages=[\n",
    "            {\"role\": \"system\", \"content\": link_system_prompt},\n",
    "            {\"role\": \"user\", \"content\": get_links_user_prompt(website)}\n",
    "      ],\n",
    "        response_format={\"type\": \"json_object\"}\n",
    "    )\n",
    "    result = response.choices[0].message.content\n",
    "    return json.loads(result)"
   ]
  },
  {
   "cell_type": "code",
   "execution_count": 12,
   "id": "74a827a0-2782-4ae5-b210-4a242a8b4cc2",
   "metadata": {},
   "outputs": [
    {
     "data": {
      "text/plain": [
       "['/',\n",
       " '/models',\n",
       " '/datasets',\n",
       " '/spaces',\n",
       " '/docs',\n",
       " '/enterprise',\n",
       " '/pricing',\n",
       " '/login',\n",
       " '/join',\n",
       " '/spaces',\n",
       " '/models',\n",
       " '/deepseek-ai/DeepSeek-R1-0528',\n",
       " '/ResembleAI/chatterbox',\n",
       " '/deepseek-ai/DeepSeek-R1-0528-Qwen3-8B',\n",
       " '/google/gemma-3n-E4B-it-litert-preview',\n",
       " '/osmosis-ai/Osmosis-Structure-0.6B',\n",
       " '/models',\n",
       " '/spaces/ResembleAI/Chatterbox',\n",
       " '/spaces/enzostvs/deepsite',\n",
       " '/spaces/multimodalart/wan2-1-fast',\n",
       " '/spaces/wushuang98/Direct3D-S2-v1.0-demo',\n",
       " '/spaces/alexnasa/Chain-of-Zoom',\n",
       " '/spaces',\n",
       " '/datasets/yandex/yambda',\n",
       " '/datasets/open-r1/Mixture-of-Thoughts',\n",
       " '/datasets/fka/awesome-chatgpt-prompts',\n",
       " '/datasets/MiniMaxAI/SynLogic',\n",
       " '/datasets/Hcompany/WebClick',\n",
       " '/datasets',\n",
       " '/join',\n",
       " '/pricing#endpoints',\n",
       " '/pricing#spaces',\n",
       " '/pricing',\n",
       " '/enterprise',\n",
       " '/enterprise',\n",
       " '/enterprise',\n",
       " '/enterprise',\n",
       " '/enterprise',\n",
       " '/enterprise',\n",
       " '/enterprise',\n",
       " '/allenai',\n",
       " '/facebook',\n",
       " '/amazon',\n",
       " '/google',\n",
       " '/Intel',\n",
       " '/microsoft',\n",
       " '/grammarly',\n",
       " '/Writer',\n",
       " '/docs/transformers',\n",
       " '/docs/diffusers',\n",
       " '/docs/safetensors',\n",
       " '/docs/huggingface_hub',\n",
       " '/docs/tokenizers',\n",
       " '/docs/trl',\n",
       " '/docs/transformers.js',\n",
       " '/docs/smolagents',\n",
       " '/docs/peft',\n",
       " '/docs/datasets',\n",
       " '/docs/text-generation-inference',\n",
       " '/docs/accelerate',\n",
       " '/models',\n",
       " '/datasets',\n",
       " '/spaces',\n",
       " '/changelog',\n",
       " 'https://endpoints.huggingface.co',\n",
       " '/chat',\n",
       " '/huggingface',\n",
       " '/brand',\n",
       " '/terms-of-service',\n",
       " '/privacy',\n",
       " 'https://apply.workable.com/huggingface/',\n",
       " 'mailto:press@huggingface.co',\n",
       " '/learn',\n",
       " '/docs',\n",
       " '/blog',\n",
       " 'https://discuss.huggingface.co',\n",
       " 'https://status.huggingface.co/',\n",
       " 'https://github.com/huggingface',\n",
       " 'https://twitter.com/huggingface',\n",
       " 'https://www.linkedin.com/company/huggingface/',\n",
       " '/join/discord']"
      ]
     },
     "execution_count": 12,
     "metadata": {},
     "output_type": "execute_result"
    }
   ],
   "source": [
    "# Anthropic has made their site harder to scrape, so I'm using HuggingFace..\n",
    "\n",
    "huggingface = Website(\"https://huggingface.co\")\n",
    "huggingface.links"
   ]
  },
  {
   "cell_type": "code",
   "execution_count": 14,
   "id": "d3d583e2-dcc4-40cc-9b28-1e8dbf402924",
   "metadata": {},
   "outputs": [
    {
     "data": {
      "text/plain": [
       "{'links': [{'type': 'About page', 'url': 'https://huggingface.co'},\n",
       "  {'type': 'Company page', 'url': 'https://huggingface.co/brand'},\n",
       "  {'type': 'Changelog', 'url': 'https://huggingface.co/changelog'},\n",
       "  {'type': 'Blog', 'url': 'https://blog.huggingface.co'}]}"
      ]
     },
     "execution_count": 14,
     "metadata": {},
     "output_type": "execute_result"
    }
   ],
   "source": [
    "get_links(\"https://huggingface.co\")"
   ]
  },
  {
   "cell_type": "code",
   "execution_count": 27,
   "id": "5355e9b8-5853-4597-a907-0cabfdc0d6d0",
   "metadata": {},
   "outputs": [
    {
     "data": {
      "text/plain": [
       "{'links': [{'type': 'about page', 'url': 'https://airlock.com/en/about-us'},\n",
       "  {'type': 'company page', 'url': 'https://airlock.com/'},\n",
       "  {'type': 'careers/jobs page', 'url': 'https://airlock.com/team/jobs'}]}"
      ]
     },
     "execution_count": 27,
     "metadata": {},
     "output_type": "execute_result"
    }
   ],
   "source": [
    "get_links(\"https://www.airlock.com\")"
   ]
  },
  {
   "cell_type": "code",
   "execution_count": 29,
   "id": "8b816b27-fcd6-48b9-bee9-40de425fc114",
   "metadata": {},
   "outputs": [
    {
     "data": {
      "text/plain": [
       "{'links': [{'type': 'About page', 'url': '/de/ueber-ergon'},\n",
       "  {'type': 'Careers/Jobs page', 'url': '/de/karriere/jobs'},\n",
       "  {'type': 'Company Overview page', 'url': '/de/ueber-ergon/unternehmen'},\n",
       "  {'type': 'News Archive page', 'url': '/de/news?category=vor%20jahren'},\n",
       "  {'type': 'Branch Networks page', 'url': '/de/branchen'},\n",
       "  {'type': 'Services page', 'url': '/de/services'},\n",
       "  {'type': 'Contact us page', 'url': '/de/kontakt'},\n",
       "  {'type': 'Social Media links',\n",
       "   'url': ['https://www.linkedin.com/company/ergon-informatik-ag/',\n",
       "    'https://www.xing.com/companies/ergoninformatikag',\n",
       "    'https://www.youtube.com/@ErgonInformatik',\n",
       "    'http://www.facebook.com/ErgonAG',\n",
       "    'https://twitter.com/ErgonAG',\n",
       "    'https://www.instagram.com/ergoninformatik/']},\n",
       "  {'type': 'Media Corner', 'url': '/de/media-corner'},\n",
       "  {'type': 'Impressum page', 'url': '/de/impressum'}]}"
      ]
     },
     "execution_count": 29,
     "metadata": {},
     "output_type": "execute_result"
    }
   ],
   "source": [
    "get_links(\"https://www.ergon.ch\")"
   ]
  },
  {
   "cell_type": "code",
   "execution_count": 30,
   "id": "8cef287e-368a-4be7-8fa7-616636c753dc",
   "metadata": {},
   "outputs": [
    {
     "data": {
      "text/plain": [
       "{'links': [{'type': 'company page', 'url': 'https://www.airlock.com/'},\n",
       "  {'type': 'About Us',\n",
       "   'url': 'https://techzone.ergon.ch/en/secure-access-hub/components/microgateway?gad_campaignid=22637043751&cHash=19325fb08aab86dc021d9f7785d08e76'},\n",
       "  {'type': 'Features',\n",
       "   'url': 'https://airlock.com/secure-access-hub/features/in-the-cloud'},\n",
       "  {'type': 'Products',\n",
       "   'url': 'https://airlock.com/secure-access-hub/components/microgateway'},\n",
       "  {'type': 'Blog', 'url': 'https://github.com/airlock'},\n",
       "  {'type': 'Support', 'url': 'https://airlock.com/support/'}]}"
      ]
     },
     "execution_count": 30,
     "metadata": {},
     "output_type": "execute_result"
    }
   ],
   "source": [
    "get_links(\"http://www.airlock.com/microgateway\")"
   ]
  },
  {
   "cell_type": "code",
   "execution_count": 31,
   "id": "4bac30c3-4be5-41c9-898e-a44315a4cbf0",
   "metadata": {},
   "outputs": [
    {
     "data": {
      "text/plain": [
       "{'links': [{'type': 'Company Overview', 'url': 'https://www.airlock.com/en/'},\n",
       "  {'type': 'Whitepaper Overview',\n",
       "   'url': 'https://techzone.ergon.ch/secure-access-hub/en/whitepaper-overview'},\n",
       "  {'type': 'Glossary',\n",
       "   'url': 'https://techzone.ergon.ch/secure-access-hub/en/glossary'},\n",
       "  {'type': 'Contact', 'url': 'https://techzone.ergon.ch/en/contact'},\n",
       "  {'type': 'About Ergon', 'url': 'https://en/about-ergon/airlock'}]}"
      ]
     },
     "execution_count": 31,
     "metadata": {},
     "output_type": "execute_result"
    }
   ],
   "source": [
    "get_links(\"https://www.airlock.com/en/secure-access-hub/components/microgateway\")"
   ]
  },
  {
   "cell_type": "code",
   "execution_count": 28,
   "id": "f6676ce2-e17b-4549-a593-1fdf03ed2ed3",
   "metadata": {},
   "outputs": [
    {
     "data": {
      "text/plain": [
       "{'links': [{'type': 'company page',\n",
       "   'url': 'https://docs.airlock.com/microgateway/'},\n",
       "  {'type': 'about webpage on MicroGateway',\n",
       "   'url': 'https://docs.airlock.com/microgateway/about'}]}"
      ]
     },
     "execution_count": 28,
     "metadata": {},
     "output_type": "execute_result"
    }
   ],
   "source": [
    "get_links(\"https://docs.airlock.com/microgateway/\")"
   ]
  },
  {
   "cell_type": "code",
   "execution_count": 32,
   "id": "b3fb4dd6-10e7-4917-9137-82f778492a9e",
   "metadata": {},
   "outputs": [
    {
     "data": {
      "text/plain": [
       "{'links': [{'type': 'About page',\n",
       "   'url': 'https://gateway.envoyproxy.io/about'},\n",
       "  {'type': 'Company page', 'url': 'https://www.tetrate.io'},\n",
       "  {'type': 'Contribution page',\n",
       "   'url': 'https://contributions envoyproxy org/'},\n",
       "  {'type': 'GitHub page', 'url': 'https://github.com/envoyproxy/gateway'}]}"
      ]
     },
     "execution_count": 32,
     "metadata": {},
     "output_type": "execute_result"
    }
   ],
   "source": [
    "get_links(\"https://gateway.envoyproxy.io/\")"
   ]
  },
  {
   "cell_type": "code",
   "execution_count": 33,
   "id": "4257aea7-c9d7-47ae-9aae-83e0fe4eff3a",
   "metadata": {},
   "outputs": [
    {
     "data": {
      "text/plain": [
       "{'links': [{'type': 'About page', 'url': 'https://gateway.envoyproxy.io/'},\n",
       "  {'type': 'Company website', 'url': 'https://www.envoyproxy.io'},\n",
       "  {'type': 'GitHub repository',\n",
       "   'url': 'https://github.com/envoyproxy/gateway'},\n",
       "  {'type': 'LinkedIn company page',\n",
       "   'url': 'https://www.linkedin.com/company/envoy-cloud-native'},\n",
       "  {'type': 'Community invitation page',\n",
       "   'url': 'https://communityinviter.com/apps/envoyproxy/envoy'}]}"
      ]
     },
     "execution_count": 33,
     "metadata": {},
     "output_type": "execute_result"
    }
   ],
   "source": [
    "get_links(\"https://gateway.envoyproxy.io/docs/\")"
   ]
  },
  {
   "cell_type": "code",
   "execution_count": 34,
   "id": "27167486-7579-4ed4-ae67-7e4a9e33abac",
   "metadata": {},
   "outputs": [
    {
     "data": {
      "text/plain": [
       "{'links': [{'type': 'official website', 'url': 'https://envoyproxy.io'},\n",
       "  {'type': 'blog/news', 'url': 'https://envoymobile.io'},\n",
       "  {'type': 'LinkedIn company page',\n",
       "   'url': 'https://www.linkedin.com/company/envoy-cloud-native'},\n",
       "  {'type': 'GitHub repository',\n",
       "   'url': 'https://github.com/envoyproxy/gateway'}]}"
      ]
     },
     "execution_count": 34,
     "metadata": {},
     "output_type": "execute_result"
    }
   ],
   "source": [
    "get_links(\"https://gateway.envoyproxy.io/docs/tasks/security/oidc/\")"
   ]
  },
  {
   "cell_type": "code",
   "execution_count": 35,
   "id": "2ff306cc-67e0-4a38-a777-6e2ff06b6b46",
   "metadata": {},
   "outputs": [
    {
     "data": {
      "text/plain": [
       "{'links': [{'type': 'about page', 'url': 'https://kgateway.dev/docs/about/'},\n",
       "  {'type': 'company information', 'url': 'https://www.solo.io/kgatewaydev'},\n",
       "  {'type': 'LinkedIn company profile',\n",
       "   'url': 'https://www.linkedin.com/company/kgateway/'},\n",
       "  {'type': 'GitHub repository for kgateway',\n",
       "   'url': 'https://github.com/kgateway-dev/kgateway'},\n",
       "  {'type': 'mastodon social media handle',\n",
       "   'url': 'https://mastodon.social/@kgateway'},\n",
       "  {'type': 'YouTube channel for kgateway',\n",
       "   'url': 'https://youtube.com/@kgateway-dev'}]}"
      ]
     },
     "execution_count": 35,
     "metadata": {},
     "output_type": "execute_result"
    }
   ],
   "source": [
    "get_links(\"https://kgateway.dev/\")"
   ]
  },
  {
   "cell_type": "code",
   "execution_count": 36,
   "id": "cbcf64d5-8d42-47c7-a2f7-2e2a089dcfea",
   "metadata": {},
   "outputs": [
    {
     "data": {
      "text/plain": [
       "{'links': [{'type': 'Company page',\n",
       "   'url': 'https://github.com/kgateway-dev/kgateway'},\n",
       "  {'type': 'Setup guide', 'url': 'https://docs.solo.io/'},\n",
       "  {'type': 'Blog', 'url': 'https://blog.solo.io/'},\n",
       "  {'type': 'Learn more', 'url': 'https://learn.solo.io/'},\n",
       "  {'type': 'Slack channel', 'url': 'https://slack.com/kgatewaydev'},\n",
       "  {'type': 'Social media profiles',\n",
       "   'url': ['https://bsky.app/profile/kgateway.dev',\n",
       "    'https://mastodon.social/@kgateway',\n",
       "    'https://www.linkedin.com/company/kgateway/',\n",
       "    'https://youtube.com/@kgateway-dev']},\n",
       "  {'type': 'Documentation', 'url': 'https://docs.solo.io/api/'}]}"
      ]
     },
     "execution_count": 36,
     "metadata": {},
     "output_type": "execute_result"
    }
   ],
   "source": [
    "get_links(\"https://kgateway.dev/docs/\")"
   ]
  },
  {
   "cell_type": "code",
   "execution_count": 37,
   "id": "ef7b1c76-849c-4725-ba63-0ec66a9a53d6",
   "metadata": {},
   "outputs": [
    {
     "data": {
      "text/plain": [
       "{'links': [{'type': 'about page',\n",
       "   'url': 'https://modelcontextprotocol.io/introduction'},\n",
       "  {'type': 'contact email', 'url': 'http://127.0.0.1:6274'},\n",
       "  {'type': 'Company website', 'url': 'https://kgateway.dev/docs/mcp/'},\n",
       "  {'type': 'Documentation',\n",
       "   'url': 'https://modelcontextprotocol.io specification/2025-03-26/basic/authorization/'},\n",
       "  {'type': 'Blog', 'url': 'https://www.solo.io/'},\n",
       "  {'type': 'Social media channels',\n",
       "   'url': ['https://x.com/kgatewaydev',\n",
       "    'https://bsky.app/profile/kgateway.dev',\n",
       "    'https://mastodon.social/@kgateway']},\n",
       "  {'type': 'LinkedIn page',\n",
       "   'url': 'https://www.linkedin.com/company/kgateway/'},\n",
       "  {'type': 'YouTube channel', 'url': 'https://youtube.com/@kgateway-dev'},\n",
       "  {'type': 'GitHub repository',\n",
       "   'url': 'https://github.com/kgateway-dev/kgateway'}]}"
      ]
     },
     "execution_count": 37,
     "metadata": {},
     "output_type": "execute_result"
    }
   ],
   "source": [
    "get_links(\"https://kgateway.dev/docs/mcp/\")"
   ]
  },
  {
   "cell_type": "markdown",
   "id": "0d74128e-dfb6-47ec-9549-288b621c838c",
   "metadata": {},
   "source": [
    "## Second step: make the brochure!\n",
    "\n",
    "Assemble all the details into another prompt to GPT4-o"
   ]
  },
  {
   "cell_type": "code",
   "execution_count": 15,
   "id": "85a5b6e2-e7ef-44a9-bc7f-59ede71037b5",
   "metadata": {},
   "outputs": [],
   "source": [
    "def get_all_details(url):\n",
    "    result = \"Landing page:\\n\"\n",
    "    result += Website(url).get_contents()\n",
    "    links = get_links(url)\n",
    "    print(\"Found links:\", links)\n",
    "    for link in links[\"links\"]:\n",
    "        result += f\"\\n\\n{link['type']}\\n\"\n",
    "        result += Website(link[\"url\"]).get_contents()\n",
    "    return result"
   ]
  },
  {
   "cell_type": "code",
   "execution_count": 39,
   "id": "5099bd14-076d-4745-baf3-dac08d8e5ab2",
   "metadata": {},
   "outputs": [
    {
     "name": "stdout",
     "output_type": "stream",
     "text": [
      "Found links: {'links': [{'type': 'about page', 'url': 'https://gateway.envoyproxy.io/docs'}, {'type': 'Contributions page', 'url': 'https://gateway.envoyproxy.io/contributions'}, {'type': 'FAQs or About page', 'url': 'https://aigateway.envoyproxy.io'}]}\n",
      "Landing page:\n",
      "Webpage Title:\n",
      "Envoy Gateway\n",
      "Webpage Contents:\n",
      "Envoy Gateway\n",
      "Documentation\n",
      "News\n",
      "About\n",
      "Contributions\n",
      "Versions\n",
      "latest\n",
      "v1.4\n",
      "v1.3\n",
      "v1.2 (EOL)\n",
      "v1.1 (EOL)\n",
      "v1.0 (EOL)\n",
      "v0.6 (EOL)\n",
      "v0.5 (EOL)\n",
      "v0.4 (EOL)\n",
      "v0.3 (EOL)\n",
      "v0.2 (EOL)\n",
      "Envoy Gateway\n",
      "Manage your Application and API traffic with Envoy Gateway.\n",
      "Aimed at making it easy to adopt, use, and manage Envoy Proxy.\n",
      "Deploy as a Standalone or Kubernetes-based API Gateway, implementing and extending the Kubernetes Gateway API.\n",
      "Get Started\n",
      "GitHub\n",
      "Built together. Built in the open.\n",
      "Gateway is the result of the community coming together to make it easier than ever to leverage Envoy Proxy for your API Gateway needs.\n",
      "Get involved in the community\n",
      "Join our community on Slack, join the conversation on GitHub, and attend our community meetings. See links in footer for details and meeting notes.\n",
      "Got feature ideas?\n",
      "We're always looking for feedback on what features you'd like to see in Gateway. Don't hesitate to raise\n",
      "GitHub issues\n",
      "or join\n",
      "#gateway-dev\n",
      "and\n",
      "#gateway-users\n",
      "on Envoy's Slack.\n",
      "Capabilities\n",
      "Use Envoy Proxy as an API Gateway\n",
      "Makes it easy to leverage Envoy Proxy as a Kubernetes Gateway. Envoy Gateway implements the Kubernetes Gateway API, and extends it to make it easy to leverage advanced Envoy features, without knowing details of Envoy proxy.\n",
      "Security controls made easy\n",
      "Leverage the Envoy Gateway Security Policy to enforce security controls including mTLS, JWT based access control, OIDC integration, API Key based authorization, and more.\n",
      "Manage traffic\n",
      "Envoy Gateway supports advanced traffic management and control features including rate limiting, retry policies, circuit breaking, timeouts, failover, and more\n",
      "Observability\n",
      "Envoy Gateway provides a rich set of observability features including metrics, access logging, distributed tracing, and more.\n",
      "Our Adopters\n",
      "Canva is using Envoy Gateway to route traffic for user uploads, using consistent hash load balancing, and as the gateway for internal systems.\n",
      "Routing all customer traffic to our various backends. Every time a new customer signs up we dynamically add a route to a new hostname so Envoy Gateway is deeply integrated with our product.\n",
      "Tetrate provides Enterprise Gateway (TEG) to end users, which includes a 100% upstream distribution of Envoy Gateway, and management to deliver applications securely, authenticate user traffic, protect services with rate limiting and WAF, and integrate with your observability stack to monitor and observe activity.\n",
      "Airspace Link is using Envoy Gateway to route all public APIs to Kubernetes clusters, developers are manipulating routes descriptions using agnostic manifest files, which are then automatically provisioned using Envoy Gateway.\n",
      "Teleport is using Envoy Gateway to manage dynamic routing for all traffic to the Teleport Cloud Platform.\n",
      "Tencent Cloud is using Envoy Gateway as a Kubernetes Cluster Network Addon to manage dynamic routing in the Tencent Kubernetes Engine.\n",
      "QuantCo is using Envoy Gateway to expose various services from our K8s clusters in a secure and flexible way, where developers can deploy and manage their apps and cluster administrators can enforce common security policies like OIDC authentication.\n",
      "Titan uses Envoy Gateway to enhance observability and centralize security for its Kubernetes services, managing critical policies like rate limiting, IP blocking, and access controls—freeing developers from the burden of handling service security.\n",
      "CoactiveAI is advancing multimodal content search and analytics at scale, and relies on envoy gateway to simplify self-service routing, consistent API authentication, request modification, safe rollouts with traffic splitting, and request mirroring for data consistency over split deployments.\n",
      "Kubermatic is using Envoy Gateway in KubeLB to provide L7 Load Balancing for multiple Kubernetes clusters using GatewayAPI.\n",
      "Rackspace OpenStack leverages Envoy Gateway within it's openCenter platform to handle dynamic routing across containerized services and virtualized workloads, enhancing traffic management and observability while also consolidating important security policies such as rate limiting, IP blocking, and access control.\n",
      "Docker is using Envoy Gateway to route all internal traffic for Docker Hub.\n",
      "SenseTime is using Envoy Gateway to route most traffic for SenseCore.\n",
      "nemlig.com is using Envoy Gateway to route traffic for internal and externally exposed services, including many of our customer facing APIs. We use Envoy Gateway to enforce security policies, such as JWT authentication as a service on our self-built kubernetes platform.\n",
      "Cortex is using Envoy Gateway to manage all API traffic as a modern Kubernetes ingress replacement.\n",
      "Bitnami has added Envoy Gateway to its application catalog, making it easy for users to deploy and manage the gateway using trusted and up-to-date Helm charts across Kubernetes environments.\n",
      "Alibaba Cloud Container Service adopts Envoy Gateway as a network addon, providing comprehensive Gateway API support and dedicated LLM load balancing capabilities.\n",
      "Open Source Ecosystem\n",
      "Envoy AI Gateway is built on top of Envoy Gateway to handle request traffic from application services to Gen AI services.\n",
      "Kuadrant extends gateways and routes managed by Envoy Gateway with additional policy capabilities to enhance application connectivity and security.\n",
      "AIBrix provides building blocks for scalable GenAI inference infrastructure and leverages Envoy Gateway to deploy advanced routing strategies for LLM requests sent to Inference engines\n",
      "Knative's net-gateway-api integrates with Envoy Gateway by implementing the Kubernetes Gateway API, enabling Knative services to utilize Envoy Gateway for ingress traffic management.\n",
      "KServe leverages Kubernetes Gateway API and Envoy Gateway to simplify routing, traffic management, and secure access to machine learning inference services in Kubernetes environments.\n",
      "k0rdent integrates with Envoy Gateway to offer advanced, high-performance traffic management within Kubernetes. k0rdent simplifies Envoy configuration, enabling users to easily define routing, security, and observability policies. This integration provides a robust, scalable, and secure ingress solution for applications deployed within the k0rdent-managed cluster.\n",
      "Envoy Ecosystem\n",
      "Proxy\n",
      "Mobile\n",
      "Community\n",
      "Join us on Slack\n",
      "Weekly Meetings\n",
      "LinkedIn\n",
      "Contribute\n",
      "GitHub\n",
      "Copyright © 2025 Envoy Gateway Maintainers\n",
      "\n",
      "\n",
      "\n",
      "about page\n",
      "Webpage Title:\n",
      "Welcome to Envoy Gateway | Envoy Gateway\n",
      "Webpage Contents:\n",
      "Envoy Gateway\n",
      "Documentation\n",
      "News\n",
      "About\n",
      "Contributions\n",
      "Versions\n",
      "latest\n",
      "v1.4\n",
      "v1.3\n",
      "v1.2 (EOL)\n",
      "v1.1 (EOL)\n",
      "v1.0 (EOL)\n",
      "v0.6 (EOL)\n",
      "v0.5 (EOL)\n",
      "v0.4 (EOL)\n",
      "v0.3 (EOL)\n",
      "v0.2 (EOL)\n",
      "Documentation\n",
      "Concepts\n",
      "Introduction\n",
      "The Gateway API\n",
      "Gateway API Extensions\n",
      "BackendTrafficPolicy\n",
      "ClientTrafficPolicy\n",
      "SecurityPolicy\n",
      "API Gateways\n",
      "Proxy\n",
      "Load Balancing\n",
      "Rate Limiting\n",
      "Envoy Gateway Resources\n",
      "Tasks\n",
      "Quickstart\n",
      "Traffic\n",
      "Backend Routing\n",
      "Circuit Breakers\n",
      "Client Traffic Policy\n",
      "Connection Limit\n",
      "Direct Response\n",
      "Failover\n",
      "Fault Injection\n",
      "Gateway Address\n",
      "Gateway API Support\n",
      "Global Rate Limit\n",
      "GRPC Routing\n",
      "HTTP Redirects\n",
      "HTTP Request Headers\n",
      "HTTP Response Headers\n",
      "HTTP Routing\n",
      "HTTP Timeouts\n",
      "HTTP URL Rewrite\n",
      "HTTP3\n",
      "HTTPRoute Request Mirroring\n",
      "HTTPRoute Traffic Splitting\n",
      "Load Balancing\n",
      "Local Rate Limit\n",
      "Multicluster Service Routing\n",
      "Request Buffering\n",
      "Response Compression\n",
      "Response Override\n",
      "Retry\n",
      "Routing outside Kubernetes\n",
      "Session Persistence\n",
      "TCP Routing\n",
      "UDP Routing\n",
      "Zone Aware Routing\n",
      "Security\n",
      "Accelerating TLS Handshakes using Private Key Provider in Envoy\n",
      "API Key Authentication\n",
      "Backend Mutual TLS: Gateway to Backend\n",
      "Backend TLS: Gateway to Backend\n",
      "Basic Authentication\n",
      "CORS\n",
      "Credential Injection\n",
      "External Authorization\n",
      "IP Allowlist/Denylist\n",
      "JWT Authentication\n",
      "JWT Claim-Based Authorization\n",
      "Mutual TLS: External Clients to the Gateway\n",
      "OIDC Authentication\n",
      "Secure Gateways\n",
      "Threat Model\n",
      "TLS Passthrough\n",
      "TLS Termination for TCP\n",
      "Using cert-manager For TLS Termination\n",
      "Extensibility\n",
      "Build a Wasm image\n",
      "Envoy Patch Policy\n",
      "Extension Server\n",
      "External Processing\n",
      "Lua Extensions\n",
      "Wasm Extensions\n",
      "Observability\n",
      "Gateway API Metrics\n",
      "Gateway Exported Metrics\n",
      "Gateway Observability\n",
      "Proxy Access Logs\n",
      "Proxy Metrics\n",
      "Proxy Tracing\n",
      "RateLimit Observability\n",
      "Visualising metrics using Grafana\n",
      "Operations\n",
      "Customize EnvoyProxy\n",
      "Deployment Mode\n",
      "Gateway Namespace Mode\n",
      "Standalone Deployment Mode\n",
      "Use egctl\n",
      "Troubleshooting\n",
      "Advanced: Envoy Proxy Admin Interface\n",
      "Configuration Issues\n",
      "Installation\n",
      "Install with Helm\n",
      "Install with Argo CD\n",
      "Install with Kubernetes YAML\n",
      "Install egctl\n",
      "Control Plane Authentication using custom certs\n",
      "Gateway Addons Helm Chart\n",
      "Gateway Crds Helm Chart\n",
      "Gateway Helm Chart\n",
      "Migrating from Ingress Resources\n",
      "API References\n",
      "Gateway API Extensions\n",
      "Kubernetes Gateway API\n",
      "BackendTLSPolicy\n",
      "Gateway\n",
      "GatewayClass\n",
      "GRPCRoute\n",
      "HTTPRoute\n",
      "ReferenceGrant\n",
      "View page source\n",
      "Edit this page\n",
      "Create child page\n",
      "Create documentation issue\n",
      "Create project issue\n",
      "Print entire section\n",
      "Ask a Question\n",
      "Ready to get started?\n",
      "Documentation\n",
      "Welcome to Envoy Gateway\n",
      "Envoy Gateway Documents\n",
      "less than a minute\n",
      "Envoy Gateway is an open source project for managing\n",
      "Envoy Proxy\n",
      "as a standalone or Kubernetes-based application\n",
      "gateway.\n",
      "Gateway API\n",
      "resources are used to dynamically provision and configure the managed Envoy Proxies.\n",
      "Ready to get started?\n",
      "Concepts\n",
      "Learn about key concepts when working with Envoy Gateway\n",
      "Tasks\n",
      "Learn Envoy Gateway hands-on through tasks\n",
      "Troubleshooting\n",
      "Learn how to debug Envoy Gateway\n",
      "Installation\n",
      "This section includes installation related contents of Envoy Gateway.\n",
      "API References\n",
      "This section includes API References.\n",
      "Feedback\n",
      "Was this page helpful?\n",
      "Yes\n",
      "No\n",
      "Glad to hear it! Please\n",
      "tell us how we can improve\n",
      ".\n",
      "Sorry to hear that. Please\n",
      "tell us how we can improve\n",
      ".\n",
      "Envoy Ecosystem\n",
      "Proxy\n",
      "Mobile\n",
      "Community\n",
      "Join us on Slack\n",
      "Weekly Meetings\n",
      "LinkedIn\n",
      "Contribute\n",
      "GitHub\n",
      "Copyright © 2025 Envoy Gateway Maintainers\n",
      "\n",
      "\n",
      "\n",
      "Contributions page\n",
      "Webpage Title:\n",
      "Get Involved | Envoy Gateway\n",
      "Webpage Contents:\n",
      "Envoy Gateway\n",
      "Documentation\n",
      "News\n",
      "About\n",
      "Contributions\n",
      "Versions\n",
      "latest\n",
      "v1.4\n",
      "v1.3\n",
      "v1.2 (EOL)\n",
      "v1.1 (EOL)\n",
      "v1.0 (EOL)\n",
      "v0.6 (EOL)\n",
      "v0.5 (EOL)\n",
      "v0.4 (EOL)\n",
      "v0.3 (EOL)\n",
      "v0.2 (EOL)\n",
      "Get Involved\n",
      "Design\n",
      "Goals\n",
      "System Design\n",
      "Watching Components Design\n",
      "Gateway API Translator Design\n",
      "Control Plane Observability: Metrics\n",
      "Backend\n",
      "BackendTrafficPolicy\n",
      "Bootstrap Design\n",
      "ClientTrafficPolicy\n",
      "Configuration API Design\n",
      "Data Plane Observability: Accesslog\n",
      "Data Plane Observability: Metrics\n",
      "Data Plane Observability: Tracing\n",
      "Debug support in Envoy Gateway\n",
      "egctl Design\n",
      "Envoy Gateway Extensions Design\n",
      "EnvoyExtensionPolicy\n",
      "EnvoyPatchPolicy\n",
      "Fuzzing\n",
      "Metadata in XDS resources\n",
      "Rate Limit Design\n",
      "Running Envoy Gateway locally\n",
      "SecurityPolicy\n",
      "TCP and UDP Proxy Design\n",
      "Wasm OCI Image Support\n",
      "Roadmap\n",
      "Developer Guide\n",
      "Contributing\n",
      "Adopters\n",
      "Code of Conduct\n",
      "Maintainers\n",
      "Open Source Ecosystem\n",
      "Release Process\n",
      "Working on Envoy Gateway Docs\n",
      "View page source\n",
      "Edit this page\n",
      "Create child page\n",
      "Create documentation issue\n",
      "Create project issue\n",
      "Print entire section\n",
      "Ask a Question\n",
      "Get Involved\n",
      "Get Involved\n",
      "This section includes contents related to Contributions\n",
      "less than a minute\n",
      "Design\n",
      "This section includes Designs of Envoy Gateway.\n",
      "Roadmap\n",
      "This section records the roadmap of Envoy Gateway.\n",
      "Developer Guide\n",
      "This section tells how to develop Envoy Gateway.\n",
      "Contributing\n",
      "This section tells how to contribute to Envoy Gateway.\n",
      "Adopters\n",
      "Steps to become an Envoy Gateway Adopter\n",
      "Code of Conduct\n",
      "This section includes Code of Conduct of Envoy Gateway.\n",
      "Maintainers\n",
      "This section includes Maintainers of Envoy Gateway.\n",
      "Open Source Ecosystem\n",
      "Join the Envoy Gateway Open Source Ecosystem\n",
      "Release Process\n",
      "This section tells the release process of Envoy Gateway.\n",
      "Working on Envoy Gateway Docs\n",
      "This section tells the development of Envoy Gateway Documents.\n",
      "Feedback\n",
      "Was this page helpful?\n",
      "Yes\n",
      "No\n",
      "Glad to hear it! Please\n",
      "tell us how we can improve\n",
      ".\n",
      "Sorry to hear that. Please\n",
      "tell us how we can improve\n",
      ".\n",
      "Last modified June 5, 2025:\n",
      "feat: add option to disable lua validation (#6176) (e07d1ec)\n",
      "Envoy Ecosystem\n",
      "Proxy\n",
      "Mobile\n",
      "Community\n",
      "Join us on Slack\n",
      "Weekly Meetings\n",
      "LinkedIn\n",
      "Contribute\n",
      "GitHub\n",
      "Copyright © 2025 Envoy Gateway Maintainers\n",
      "\n",
      "\n",
      "\n",
      "FAQs or About page\n",
      "Webpage Title:\n",
      "Envoy AI Gateway | Envoy AI Gateway\n",
      "Webpage Contents:\n",
      "Skip to main content\n",
      "Envoy AI Gateway\n",
      "Blog\n",
      "Docs\n",
      "0.2\n",
      "latest\n",
      "0.2\n",
      "0.1\n",
      "Release Notes\n",
      "Community\n",
      "Join us on Slack\n",
      "Weekly Meeting Notes (Thursdays)\n",
      "GitHub Discussions\n",
      "GitHub\n",
      "Envoy AI Gateway is an open source project for using Envoy Gateway to handle request traffic from application clients to GenAI services.\n",
      "Get Started\n",
      "View on GitHub\n",
      "Built together. Built in the open.\n",
      "Envoy AI Gateway is the result of the community coming together to address GenAI traffic handling needs using Envoy.\n",
      "v0.2 Release now available\n",
      "The v0.2 Release of Envoy AI Gateway is now available. See the\n",
      "release notes\n",
      "for more information.\n",
      "Get involved in the community\n",
      "Join our community on Slack, join the conversation on GitHub, and attend our Thursday community meetings. See links in footer.\n",
      "Envoy Ecosystem\n",
      "Gateway\n",
      "Proxy\n",
      "Mobile\n",
      "Community\n",
      "Join us on Slack\n",
      "Weekly Meeting (Thursdays)\n",
      "Meeting Notes\n",
      "LinkedIn\n",
      "More\n",
      "Blog\n",
      "GitHub\n",
      "Copyright © 2025 Envoy AI Gateway\n",
      "\n",
      "\n"
     ]
    }
   ],
   "source": [
    "print(get_all_details(\"https://gateway.envoyproxy.io/\"))"
   ]
  },
  {
   "cell_type": "code",
   "execution_count": 40,
   "id": "9b863a55-f86c-4e3f-8a79-94e24c1a8cf2",
   "metadata": {},
   "outputs": [],
   "source": [
    "system_prompt = \"You are an assistant that analyzes the contents of several relevant pages from a company website \\\n",
    "and creates a short brochure about the company for prospective customers, investors and recruits. Respond in markdown.\\\n",
    "Include details of company culture, customers and careers/jobs if you have the information.\"\n",
    "\n",
    "# Or uncomment the lines below for a more humorous brochure - this demonstrates how easy it is to incorporate 'tone':\n",
    "\n",
    "# system_prompt = \"You are an assistant that analyzes the contents of several relevant pages from a company website \\\n",
    "# and creates a short humorous, entertaining, jokey brochure about the company for prospective customers, investors and recruits. Respond in markdown.\\\n",
    "# Include details of company culture, customers and careers/jobs if you have the information.\"\n"
   ]
  },
  {
   "cell_type": "code",
   "execution_count": 41,
   "id": "6ab83d92-d36b-4ce0-8bcc-5bb4c2f8ff23",
   "metadata": {},
   "outputs": [],
   "source": [
    "def get_brochure_user_prompt(company_name, url):\n",
    "    user_prompt = f\"You are looking at a company called: {company_name}\\n\"\n",
    "    user_prompt += f\"Here are the contents of its landing page and other relevant pages; use this information to build a short brochure of the company in markdown.\\n\"\n",
    "    user_prompt += get_all_details(url)\n",
    "    user_prompt = user_prompt[:5_000] # Truncate if more than 5,000 characters\n",
    "    return user_prompt"
   ]
  },
  {
   "cell_type": "code",
   "execution_count": 42,
   "id": "cd909e0b-1312-4ce2-a553-821e795d7572",
   "metadata": {},
   "outputs": [
    {
     "name": "stdout",
     "output_type": "stream",
     "text": [
      "Found links: {'links': [{'type': 'About page', 'url': 'https://gateway.envoyproxy.io/about'}, {'type': 'Contribution page', 'url': 'https://gateway.envoyproxy.io/contributions'}, {'type': 'Community link', 'url': 'https://communityinviter.com/apps/envoyproxy/envoy'}]}\n"
     ]
    },
    {
     "data": {
      "text/plain": [
       "\"You are looking at a company called: Envoy Gateway\\nHere are the contents of its landing page and other relevant pages; use this information to build a short brochure of the company in markdown.\\nLanding page:\\nWebpage Title:\\nEnvoy Gateway\\nWebpage Contents:\\nEnvoy Gateway\\nDocumentation\\nNews\\nAbout\\nContributions\\nVersions\\nlatest\\nv1.4\\nv1.3\\nv1.2 (EOL)\\nv1.1 (EOL)\\nv1.0 (EOL)\\nv0.6 (EOL)\\nv0.5 (EOL)\\nv0.4 (EOL)\\nv0.3 (EOL)\\nv0.2 (EOL)\\nEnvoy Gateway\\nManage your Application and API traffic with Envoy Gateway.\\nAimed at making it easy to adopt, use, and manage Envoy Proxy.\\nDeploy as a Standalone or Kubernetes-based API Gateway, implementing and extending the Kubernetes Gateway API.\\nGet Started\\nGitHub\\nBuilt together. Built in the open.\\nGateway is the result of the community coming together to make it easier than ever to leverage Envoy Proxy for your API Gateway needs.\\nGet involved in the community\\nJoin our community on Slack, join the conversation on GitHub, and attend our community meetings. See links in footer for details and meeting notes.\\nGot feature ideas?\\nWe're always looking for feedback on what features you'd like to see in Gateway. Don't hesitate to raise\\nGitHub issues\\nor join\\n#gateway-dev\\nand\\n#gateway-users\\non Envoy's Slack.\\nCapabilities\\nUse Envoy Proxy as an API Gateway\\nMakes it easy to leverage Envoy Proxy as a Kubernetes Gateway. Envoy Gateway implements the Kubernetes Gateway API, and extends it to make it easy to leverage advanced Envoy features, without knowing details of Envoy proxy.\\nSecurity controls made easy\\nLeverage the Envoy Gateway Security Policy to enforce security controls including mTLS, JWT based access control, OIDC integration, API Key based authorization, and more.\\nManage traffic\\nEnvoy Gateway supports advanced traffic management and control features including rate limiting, retry policies, circuit breaking, timeouts, failover, and more\\nObservability\\nEnvoy Gateway provides a rich set of observability features including metrics, access logging, distributed tracing, and more.\\nOur Adopters\\nCanva is using Envoy Gateway to route traffic for user uploads, using consistent hash load balancing, and as the gateway for internal systems.\\nRouting all customer traffic to our various backends. Every time a new customer signs up we dynamically add a route to a new hostname so Envoy Gateway is deeply integrated with our product.\\nTetrate provides Enterprise Gateway (TEG) to end users, which includes a 100% upstream distribution of Envoy Gateway, and management to deliver applications securely, authenticate user traffic, protect services with rate limiting and WAF, and integrate with your observability stack to monitor and observe activity.\\nAirspace Link is using Envoy Gateway to route all public APIs to Kubernetes clusters, developers are manipulating routes descriptions using agnostic manifest files, which are then automatically provisioned using Envoy Gateway.\\nTeleport is using Envoy Gateway to manage dynamic routing for all traffic to the Teleport Cloud Platform.\\nTencent Cloud is using Envoy Gateway as a Kubernetes Cluster Network Addon to manage dynamic routing in the Tencent Kubernetes Engine.\\nQuantCo is using Envoy Gateway to expose various services from our K8s clusters in a secure and flexible way, where developers can deploy and manage their apps and cluster administrators can enforce common security policies like OIDC authentication.\\nTitan uses Envoy Gateway to enhance observability and centralize security for its Kubernetes services, managing critical policies like rate limiting, IP blocking, and access controls—freeing developers from the burden of handling service security.\\nCoactiveAI is advancing multimodal content search and analytics at scale, and relies on envoy gateway to simplify self-service routing, consistent API authentication, request modification, safe rollouts with traffic splitting, and request mirroring for data consistency over split deployments.\\nKubermatic is using Envoy Gateway in KubeLB to provide L7 Load Balancing for multiple Kubernetes clusters using GatewayAPI.\\nRackspace OpenStack leverages Envoy Gateway within it's openCenter platform to handle dynamic routing across containerized services and virtualized workloads, enhancing traffic management and observability while also consolidating important security policies such as rate limiting, IP blocking, and access control.\\nDocker is using Envoy Gateway to route all internal traffic for Docker Hub.\\nSenseTime is using Envoy Gateway to route most traffic for SenseCore.\\nnemlig.com is using Envoy Gateway to route traffic for internal and externally exposed services, including many of our customer facing APIs. We use Envoy Gateway to enforce security policies, such as JWT authentication as a service on our self-built kubernetes platform.\\nCortex is using Envoy Gateway to manage all API traffic as a modern Kubernetes ingress replacement.\\nBitnami has added Envoy Gateway to its application catalog, making it easy for users to deploy and manag\""
      ]
     },
     "execution_count": 42,
     "metadata": {},
     "output_type": "execute_result"
    }
   ],
   "source": [
    "get_brochure_user_prompt(\"Envoy Gateway\", \"https://gateway.envoyproxy.io/\")"
   ]
  },
  {
   "cell_type": "code",
   "execution_count": 21,
   "id": "e44de579-4a1a-4e6a-a510-20ea3e4b8d46",
   "metadata": {},
   "outputs": [],
   "source": [
    "def create_brochure(company_name, url):\n",
    "    response = openai.chat.completions.create(\n",
    "        model=MODEL,\n",
    "        messages=[\n",
    "            {\"role\": \"system\", \"content\": system_prompt},\n",
    "            {\"role\": \"user\", \"content\": get_brochure_user_prompt(company_name, url)}\n",
    "          ],\n",
    "    )\n",
    "    result = response.choices[0].message.content\n",
    "    display(Markdown(result))"
   ]
  },
  {
   "cell_type": "code",
   "execution_count": 43,
   "id": "e093444a-9407-42ae-924a-145730591a39",
   "metadata": {},
   "outputs": [
    {
     "name": "stdout",
     "output_type": "stream",
     "text": [
      "Found links: {'links': [{'type': 'about page', 'url': 'https://gateway.envoyproxy.io/about'}, {'type': 'contributions page', 'url': 'https://gateway.envoyproxy.io/contributions'}]}\n"
     ]
    },
    {
     "data": {
      "text/markdown": [
       "# Envoy Gateway Brochure\n",
       "## Introduction\n",
       "\n",
       "Envoy Gateway is an open-source project that aims to make it easier to adopt, use, and manage Envoy Proxy as a Kubernetes Gateway. Deployment can be done as a standalone or Kubernetes-based API gateway, implementing and extending the Kubernetes Gateway API.\n",
       "\n",
       "## Company Culture\n",
       "\n",
       "At Envoy Gateway, we are committed to building something great together. Our community-driven approach ensures that our product is always evolving to meet the needs of users like you.\n",
       "\n",
       "* **Built for Collaboration**: We believe that collaboration is key to greatness. That's why we're built on an open-source model and actively encourage contributors from around the world.\n",
       "* **Transparency and Communication**: You'll find detailed information about our project history, features, and roadmap on our documentation page.\n",
       "* **Supporting Diversity and Inclusion**: We strive to make sure everyone can participate in shaping Envoy Gateway. Join us today!\n",
       "\n",
       "## Customers\n",
       "\n",
       "Our satisfied customers are using Envoy Gateway to manage their traffic and improve the stability of their applications:\n",
       "\n",
       "### Airspace Link\n",
       "Route all public APIs to Kubernetes clusters, leveraging flexible manifest files for automatic provisioning.\n",
       "\n",
       "### Canva\n",
       "Dynamically add route descriptions and integrate with internal systems, ensuring user-friendly experiences.\n",
       "\n",
       "### Cortex\n",
       "Manage API traffic as a modern Kubernetes ingress replacement, allowing developers to focus on what matters most – code.\n",
       "\n",
       "### Docker\n",
       "Routing internal traffic for Docker Hub makes use of Envoy Gateway's best practices.\n",
       "\n",
       "### Kubermatic\n",
       "Offering multi-cluster L7 Load Balancing using GatewayAPI and leveraging Envoy Gateway capabilities.\n",
       "\n",
       "### nemlig.com\n",
       "Route internal and externally exposed services, enforcing security policies with JWT authentication on our platform.\n",
       "\n",
       "### SenseTime\n",
       "Routing most traffic to SenseCore for a seamless experience.\n",
       "\n",
       "[Other Customers listed]\n",
       "\n",
       "## Careers/Jobs\n",
       "\n",
       "Ready to join the team that's building Envoy Gateway? We're committed to fostering an inclusive workplace culture where everyone can succeed:\n",
       "\n",
       "* **Join Our Team**: Browse open positions and opportunities on our GitHub page or Slack community channel.\n",
       "* **Get Involved**: Join discussions and stay updated on the latest developments.\n",
       "* **Be Heard**: Share your ideas - we want to hear from you!\n",
       "\n",
       "### Benefits of Working with Envoy Gateway\n",
       "\n",
       "* Contribute to a rapidly evolving, open-source project\n",
       "* Make an impact on a widely-adpired and adopted technology in the industry\n",
       "* Work with smart talent who is passionate about innovation and collaboration"
      ],
      "text/plain": [
       "<IPython.core.display.Markdown object>"
      ]
     },
     "metadata": {},
     "output_type": "display_data"
    }
   ],
   "source": [
    "create_brochure(\"Envoy Gateway\", \"https://gateway.envoyproxy.io/\")"
   ]
  },
  {
   "cell_type": "markdown",
   "id": "61eaaab7-0b47-4b29-82d4-75d474ad8d18",
   "metadata": {},
   "source": [
    "## Finally - a minor improvement\n",
    "\n",
    "With a small adjustment, we can change this so that the results stream back from OpenAI,\n",
    "with the familiar typewriter animation"
   ]
  },
  {
   "cell_type": "code",
   "execution_count": 23,
   "id": "51db0e49-f261-4137-aabe-92dd601f7725",
   "metadata": {},
   "outputs": [],
   "source": [
    "def stream_brochure(company_name, url):\n",
    "    stream = openai.chat.completions.create(\n",
    "        model=MODEL,\n",
    "        messages=[\n",
    "            {\"role\": \"system\", \"content\": system_prompt},\n",
    "            {\"role\": \"user\", \"content\": get_brochure_user_prompt(company_name, url)}\n",
    "          ],\n",
    "        stream=True\n",
    "    )\n",
    "    \n",
    "    response = \"\"\n",
    "    display_handle = display(Markdown(\"\"), display_id=True)\n",
    "    for chunk in stream:\n",
    "        response += chunk.choices[0].delta.content or ''\n",
    "        response = response.replace(\"```\",\"\").replace(\"markdown\", \"\")\n",
    "        update_display(Markdown(response), display_id=display_handle.display_id)"
   ]
  },
  {
   "cell_type": "code",
   "execution_count": 46,
   "id": "56bf0ae3-ee9d-4a72-9cd6-edcac67ceb6d",
   "metadata": {},
   "outputs": [
    {
     "name": "stdout",
     "output_type": "stream",
     "text": [
      "Found links: {'links': [{'type': 'about page', 'url': 'https://gateway.envoyproxy.io'}, {'type': 'contributions page', 'url': 'https://gateway.envoyproxy.io/contributions'}]}\n"
     ]
    },
    {
     "data": {
      "text/markdown": [
       "**Envoy Gateway Brochure**\n",
       "==========================\n",
       "\n",
       "**About Us**\n",
       "------------\n",
       "\n",
       "Envoy Gateway is an open-source edge gateway project built by the community with the goal of making it easier than ever to leverage Envoy Proxy as a Kubernetes Gateway. Our mission is to provide a simple, secure, and scalable way to manage application and API traffic for enterprises.\n",
       "\n",
       "**Our Story**\n",
       "-------------\n",
       "\n",
       "We were born out of a need to simplify the complexities of deploying, using, and managing Envoy Proxy as an API gateway. We gathered thousands of individuals from around the world who share this vision and came together to create a solution that's easy to adopt, use, and manage. Today, we're proud to be one of the fastest-growing open-source projects in the industry.\n",
       "\n",
       "**Capabilities**\n",
       "----------------\n",
       "\n",
       "### Easy Adoption\n",
       "\n",
       "* Deploy as a Standalone or Kubernetes-based API Gateway\n",
       "* Implements the Kubernetes Gateway API for seamless integration with Envoy Proxy\n",
       "\n",
       "### Security Controls Made Easy\n",
       "\n",
       "* Enforce security controls, including mTLS, JWT-based access control, OIDC integration, and more\n",
       "* Use our built-in Security Policy to simplify your security setup\n",
       "\n",
       "### Traffic Management\n",
       "\n",
       "* Advanced traffic management features, including rate limiting, retry policies, circuit breaking, timeouts, failover, and more\n",
       "\n",
       "### Observability\n",
       "\n",
       "* Rich set of observability features, including metrics, access logging, distributed tracing, and more\n",
       "\n",
       "**Customer Success Stories**\n",
       "---------------------------\n",
       "\n",
       "We're not just another open-source project - we have real-world customers who are using us to transform their applications. Here's what some of them have to say:\n",
       "\n",
       "* Canva: \"Envoy Gateway has become an integral part of our routing and gateway setup.\" (Routing user uploads, internal systems)\n",
       "* Tetrate: \"TEG (Enterprise Gateway) uses Envoy Gateway to deliver applications securely and authenticate user traffic.\" (Enterprise Gateway for end-users)\n",
       "* Airspace Link: \"We route all public APIs to Kubernetes clusters using Envoy Gateway. It's been a game-changer for our traffic management.\" (Route API traffic)\n",
       "\n",
       "**Join Our Community**\n",
       "---------------------\n",
       "\n",
       "Want to be part of our journey? Join us on:\n",
       "\n",
       "* Slack\n",
       "* GitHub (contributing and discussing features)\n",
       "* Attend community meetings\n",
       "\n",
       "### Contributing\n",
       "\n",
       "Got feature ideas or feedback? Raise them by opening a GitHub issue!\n",
       "\n",
       "We're built by the community, for the community. Let's build something amazing together.\n",
       "\n",
       "**Get Started**\n",
       "---------------\n",
       "\n",
       "Deploy Envoy Gateway today and start simplifying your application and API traffic management.\n",
       "\n",
       "[GitHub Link](https://github.com/envoygateway)\n",
       "[Documentation Portal](https://envoygateway.readthedocs.io/)\n",
       "\n",
       "Join us on this exciting journey!"
      ],
      "text/plain": [
       "<IPython.core.display.Markdown object>"
      ]
     },
     "metadata": {},
     "output_type": "display_data"
    }
   ],
   "source": [
    "stream_brochure(\"Envoy Gateway\", \"https://gateway.envoyproxy.io/\")"
   ]
  },
  {
   "cell_type": "code",
   "execution_count": 45,
   "id": "fdb3f8d8-a3eb-41c8-b1aa-9f60686a653b",
   "metadata": {},
   "outputs": [
    {
     "name": "stdout",
     "output_type": "stream",
     "text": [
      "Found links: {'links': [{'type': 'about page', 'url': 'https://gateway.envoyproxy.io/docs/about/'}, {'type': 'contribution page', 'url': 'https://gateway.envoyproxy.io/contributions/'}]}\n"
     ]
    },
    {
     "data": {
      "text/markdown": [
       "**Envoy Gateway Brochure**\n",
       "==========================\n",
       "\n",
       "### Introduction\n",
       "\n",
       "Envoy Gateway is an open-source gateway that makes it easy to adopt, use, and manage Envoy Proxy as a Kubernetes API Gateway. It provides a simple and reliable way to deploy and manage APIs, without requiring extensive knowledge of Envoy Proxy.\n",
       "\n",
       "### Overview of Envoy Gateway\n",
       "\n",
       "*   Built together by the community using the Kubernetes Gateway API\n",
       "*   Extends Envoy features for easy adoption\n",
       "*   Supports advanced traffic management and control features\n",
       "*   Provides rich observability features including metrics, access logging, distributed tracing, and more\n",
       "\n",
       "### Key Capabilities\n",
       "\n",
       "*   **Manage Traffic**: Envoy Gateway supports rate limiting, retry policies, circuit breaking, timeouts, failover, and more to ensure reliable API operations.\n",
       "*   **Security Controls Made Easy**: Leverage the Envoy Gateway Security Policy to enforce security controls including mTLS, JWT based access control, OIDC integration, API Key based authorization, and more.\n",
       "*   **Observability**: Get insights into your APIs with metrics, access logging, distributed tracing, and more.\n",
       "\n",
       "### Adopters\n",
       "\n",
       "Envoy Gateway is used by some of the world's leading Cloud, Tech, FinTech and DevOps companies including:\n",
       "\n",
       "*   Canva\n",
       "*   Tetrate Inc.\n",
       "*   Airspace Link Ltd\n",
       "*   Teleport Inc.\n",
       "*   Tencent Cloud\n",
       "*   QuantCo\n",
       "*   Titan LLC\n",
       "*   CoactiveAI\n",
       "\n",
       "### Join the Community\n",
       "\n",
       "Interested in using Envoy Gateway or contributing to it? Join our community on:\n",
       "\n",
       "*   Slack: `#gateway-dev` and `#gateway-users`\n",
       "*   GitHub: Open an issue or pull request today!\n",
       "\n",
       "**What You Can Expect from Envoy Gateway**\n",
       "\n",
       "Make API management a breeze with Envoy Gateway. Get started with our simple documentation and tutorials.\n",
       "\n",
       "Join our community of developers, administrators, and users to share knowledge, ask questions, and get up-to-date information on the latest Envoy Gateway releases."
      ],
      "text/plain": [
       "<IPython.core.display.Markdown object>"
      ]
     },
     "metadata": {},
     "output_type": "display_data"
    }
   ],
   "source": [
    "# Try changing the system prompt to the humorous version when you make the Brochure for Envoy Gateway:\n",
    "\n",
    "stream_brochure(\"Envoy Gateway\", \"https://gateway.envoyproxy.io/\")"
   ]
  },
  {
   "cell_type": "markdown",
   "id": "a27bf9e0-665f-4645-b66b-9725e2a959b5",
   "metadata": {},
   "source": [
    "<table style=\"margin: 0; text-align: left;\">\n",
    "    <tr>\n",
    "        <td style=\"width: 150px; height: 150px; vertical-align: middle;\">\n",
    "            <img src=\"../business.jpg\" width=\"150\" height=\"150\" style=\"display: block;\" />\n",
    "        </td>\n",
    "        <td>\n",
    "            <h2 style=\"color:#181;\">Business applications</h2>\n",
    "            <span style=\"color:#181;\">In this exercise we extended the Day 1 code to make multiple LLM calls, and generate a document.\n",
    "\n",
    "This is perhaps the first example of Agentic AI design patterns, as we combined multiple calls to LLMs. This will feature more in Week 2, and then we will return to Agentic AI in a big way in Week 8 when we build a fully autonomous Agent solution.\n",
    "\n",
    "Generating content in this way is one of the very most common Use Cases. As with summarization, this can be applied to any business vertical. Write marketing content, generate a product tutorial from a spec, create personalized email content, and so much more. Explore how you can apply content generation to your business, and try making yourself a proof-of-concept prototype. See what other students have done in the community-contributions folder -- so many valuable projects -- it's wild!</span>\n",
    "        </td>\n",
    "    </tr>\n",
    "</table>"
   ]
  },
  {
   "cell_type": "markdown",
   "id": "14b2454b-8ef8-4b5c-b928-053a15e0d553",
   "metadata": {},
   "source": [
    "<table style=\"margin: 0; text-align: left;\">\n",
    "    <tr>\n",
    "        <td style=\"width: 150px; height: 150px; vertical-align: middle;\">\n",
    "            <img src=\"../important.jpg\" width=\"150\" height=\"150\" style=\"display: block;\" />\n",
    "        </td>\n",
    "        <td>\n",
    "            <h2 style=\"color:#900;\">Before you move to Week 2 (which is tons of fun)</h2>\n",
    "            <span style=\"color:#900;\">Please see the week1 EXERCISE notebook for your challenge for the end of week 1. This will give you some essential practice working with Frontier APIs, and prepare you well for Week 2.</span>\n",
    "        </td>\n",
    "    </tr>\n",
    "</table>"
   ]
  },
  {
   "cell_type": "markdown",
   "id": "17b64f0f-7d33-4493-985a-033d06e8db08",
   "metadata": {},
   "source": [
    "<table style=\"margin: 0; text-align: left;\">\n",
    "    <tr>\n",
    "        <td style=\"width: 150px; height: 150px; vertical-align: middle;\">\n",
    "            <img src=\"../resources.jpg\" width=\"150\" height=\"150\" style=\"display: block;\" />\n",
    "        </td>\n",
    "        <td>\n",
    "            <h2 style=\"color:#f71;\">A reminder on 3 useful resources</h2>\n",
    "            <span style=\"color:#f71;\">1. The resources for the course are available <a href=\"https://edwarddonner.com/2024/11/13/llm-engineering-resources/\">here.</a><br/>\n",
    "            2. I'm on LinkedIn <a href=\"https://www.linkedin.com/in/eddonner/\">here</a> and I love connecting with people taking the course!<br/>\n",
    "            3. I'm trying out X/Twitter and I'm at <a href=\"https://x.com/edwarddonner\">@edwarddonner<a> and hoping people will teach me how it's done..  \n",
    "            </span>\n",
    "        </td>\n",
    "    </tr>\n",
    "</table>"
   ]
  },
  {
   "cell_type": "markdown",
   "id": "6f48e42e-fa7a-495f-a5d4-26bfc24d60b6",
   "metadata": {},
   "source": [
    "<table style=\"margin: 0; text-align: left;\">\n",
    "    <tr>\n",
    "        <td style=\"width: 150px; height: 150px; vertical-align: middle;\">\n",
    "            <img src=\"../thankyou.jpg\" width=\"150\" height=\"150\" style=\"display: block;\" />\n",
    "        </td>\n",
    "        <td>\n",
    "            <h2 style=\"color:#090;\">Finally! I have a special request for you</h2>\n",
    "            <span style=\"color:#090;\">\n",
    "                My editor tells me that it makes a MASSIVE difference when students rate this course on Udemy - it's one of the main ways that Udemy decides whether to show it to others. If you're able to take a minute to rate this, I'd be so very grateful! And regardless - always please reach out to me at ed@edwarddonner.com if I can help at any point.\n",
    "            </span>\n",
    "        </td>\n",
    "    </tr>\n",
    "</table>"
   ]
  },
  {
   "cell_type": "code",
   "execution_count": null,
   "id": "b8d3e1a1-ba54-4907-97c5-30f89a24775b",
   "metadata": {},
   "outputs": [],
   "source": []
  }
 ],
 "metadata": {
  "kernelspec": {
   "display_name": "Python 3 (ipykernel)",
   "language": "python",
   "name": "python3"
  },
  "language_info": {
   "codemirror_mode": {
    "name": "ipython",
    "version": 3
   },
   "file_extension": ".py",
   "mimetype": "text/x-python",
   "name": "python",
   "nbconvert_exporter": "python",
   "pygments_lexer": "ipython3",
   "version": "3.12.10"
  }
 },
 "nbformat": 4,
 "nbformat_minor": 5
}
